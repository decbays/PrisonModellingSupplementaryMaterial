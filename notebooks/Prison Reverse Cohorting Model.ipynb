{
 "cells": [
  {
   "cell_type": "markdown",
   "metadata": {},
   "source": [
    "# Reverse Cohorting in Prisons\n",
    "----\n",
    "\n",
    "In this notebook, we aim to look into the effects of reverse cohorting (the quarentining of incoming prisoners for some set time, before introduction into wider prison population) has on the probability of disease importation. This work stems from the work done previously looking into effectiveness of border screening travellers for COVID-19 at airports, and the underlying principles remain laregly unchanged.\n",
    "\n",
    "In the previous work, we looked at the likelihood that individuals infected with COVID-19 at \"some point\" before boarding their flight, would not be symptomatic by the time they attempted to cross the border into their destination country. We assumed that screening could only detect infection in symptomatic individuals, and thus success rate was dependent on the flight time (allowing more time for disease to fully incubate). \n",
    "\n",
    "It is then clear that we may draw parrallels to the work being ask here then; interpretting the time spent in transit in the previous work, as the time spent in quarentine before being released into the prison population."
   ]
  },
  {
   "cell_type": "code",
   "execution_count": null,
   "metadata": {},
   "outputs": [],
   "source": [
    "import numpy as np\n",
    "import pandas as pd\n",
    "import numpy.random as rand\n",
    "import scipy.stats as stats\n",
    "import matplotlib.pyplot as plt\n",
    "import sira"
   ]
  },
  {
   "cell_type": "markdown",
   "metadata": {},
   "source": [
    "We now define the distribution to be used for randomly allocating each of our modelled incoming individuals an incubation time "
   ]
  },
  {
   "cell_type": "code",
   "execution_count": null,
   "metadata": {},
   "outputs": [],
   "source": [
    "covid_inc_dist = stats.lognorm\n",
    "\n",
    "covid_inc_params = {'s':0.47238, 'scale': np.exp(1.6112)}"
   ]
  },
  {
   "cell_type": "markdown",
   "metadata": {},
   "source": [
    "In attempts to answer the question posed by HMPPS, we consider a range of scenarios modelled below; each of these presumes the use of a test that is either 50%, 60%, 70% 80%, 90% or 100% effective a detecting infection in symptomatic individuals. For each of these scenarios, a test is administered on both arrival into and exit from the reverse cohorting unit. As such, where a non-perfect test is being used (less than 100% effective) there is a chance that symptomatic individuals may go undetected and proceed to further stages of the model."
   ]
  },
  {
   "cell_type": "code",
   "execution_count": null,
   "metadata": {
    "scrolled": true
   },
   "outputs": [],
   "source": [
    "sensitivity = [i/10 for i in range(5,11)]\n",
    "result_dict1 = {}\n",
    "for sens in sensitivity:\n",
    "    detect_rates = []\n",
    "    for i in [5, 7, 10, 14]:\n",
    "        d_prob = sira.border_screening(num_people = 100000,\n",
    "                              flight_dist = rand.uniform,\n",
    "                              exp_dist = rand.uniform,\n",
    "                              inc_dist = rand.lognormal, \n",
    "                              time_scale = 'days',\n",
    "                              entry_scr_sens = sens,\n",
    "                              exit_scr_sens = sens,\n",
    "                              reporting=True,\n",
    "                              **{\n",
    "                                 'exp':{'low':0, 'high':14*24},\n",
    "                                 'inc':{'sigma':0.47238, 'mean': 1.6112},\n",
    "                                 'flight':{'low':((i*24)), 'high':((i*24)+0.00001)}\n",
    "                                 }\n",
    "                          )\n",
    "        detect_rates.append(d_prob)\n",
    "    result_dict1[sens] = detect_rates"
   ]
  },
  {
   "cell_type": "code",
   "execution_count": null,
   "metadata": {
    "scrolled": false
   },
   "outputs": [],
   "source": [
    "df1 = pd.DataFrame.from_dict(result_dict1, orient='index', columns=[5,7,10,14])\n",
    "df1"
   ]
  }
 ],
 "metadata": {
  "kernelspec": {
   "display_name": "Python 3",
   "language": "python",
   "name": "python3"
  },
  "language_info": {
   "codemirror_mode": {
    "name": "ipython",
    "version": 3
   },
   "file_extension": ".py",
   "mimetype": "text/x-python",
   "name": "python",
   "nbconvert_exporter": "python",
   "pygments_lexer": "ipython3",
   "version": "3.7.4"
  }
 },
 "nbformat": 4,
 "nbformat_minor": 4
}
